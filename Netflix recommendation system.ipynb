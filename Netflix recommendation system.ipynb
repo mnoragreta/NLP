{
 "cells": [
  {
   "cell_type": "markdown",
   "id": "004fdf7d-afbc-44e0-b459-d77f95f5d9d5",
   "metadata": {},
   "source": [
    "#### Importing relevant libraries"
   ]
  },
  {
   "cell_type": "code",
   "execution_count": 2,
   "id": "d824433e-524e-49fc-a21d-7ef9407a8bd0",
   "metadata": {},
   "outputs": [],
   "source": [
    "import numpy as np\n",
    "import pandas as pd\n",
    "import warnings\n",
    "warnings.filterwarnings(\"ignore\")\n",
    "pd.set_option('display.max_colwidth', None)\n",
    "\n",
    "import nltk\n",
    "from nltk.corpus import stopwords\n",
    "from wordcloud import WordCloud\n",
    "from wordcloud import STOPWORDS\n",
    "import random\n",
    "import re\n",
    "from nltk.stem import WordNetLemmatizer\n",
    "from sklearn.preprocessing import OneHotEncoder, MinMaxScaler\n",
    "\n",
    "from sklearn.feature_extraction.text import TfidfVectorizer, ENGLISH_STOP_WORDS \n",
    "from nltk.util import ngrams\n",
    "from sklearn.metrics.pairwise import cosine_similarity\n",
    "from sklearn.metrics.pairwise import linear_kernel"
   ]
  },
  {
   "cell_type": "code",
   "execution_count": 3,
   "id": "eeeee37d-0d80-40ea-89f7-636d3f5ffab5",
   "metadata": {},
   "outputs": [],
   "source": [
    "df = pd.read_csv(r\"C:\\Users\\lily\\Desktop\\IT alapok privát\\PRIV DATA SC NLP\\netflix_titles.csv\\netflix_titles.csv\")"
   ]
  },
  {
   "cell_type": "code",
   "execution_count": 4,
   "id": "ebb1daf1-7ef1-46d3-bd0a-8616368c992a",
   "metadata": {},
   "outputs": [
    {
     "data": {
      "text/html": [
       "<div>\n",
       "<style scoped>\n",
       "    .dataframe tbody tr th:only-of-type {\n",
       "        vertical-align: middle;\n",
       "    }\n",
       "\n",
       "    .dataframe tbody tr th {\n",
       "        vertical-align: top;\n",
       "    }\n",
       "\n",
       "    .dataframe thead th {\n",
       "        text-align: right;\n",
       "    }\n",
       "</style>\n",
       "<table border=\"1\" class=\"dataframe\">\n",
       "  <thead>\n",
       "    <tr style=\"text-align: right;\">\n",
       "      <th></th>\n",
       "      <th>show_id</th>\n",
       "      <th>type</th>\n",
       "      <th>title</th>\n",
       "      <th>director</th>\n",
       "      <th>cast</th>\n",
       "      <th>country</th>\n",
       "      <th>date_added</th>\n",
       "      <th>release_year</th>\n",
       "      <th>rating</th>\n",
       "      <th>duration</th>\n",
       "      <th>listed_in</th>\n",
       "      <th>description</th>\n",
       "    </tr>\n",
       "  </thead>\n",
       "  <tbody>\n",
       "    <tr>\n",
       "      <th>0</th>\n",
       "      <td>s1</td>\n",
       "      <td>Movie</td>\n",
       "      <td>Dick Johnson Is Dead</td>\n",
       "      <td>Kirsten Johnson</td>\n",
       "      <td>NaN</td>\n",
       "      <td>United States</td>\n",
       "      <td>September 25, 2021</td>\n",
       "      <td>2020</td>\n",
       "      <td>PG-13</td>\n",
       "      <td>90 min</td>\n",
       "      <td>Documentaries</td>\n",
       "      <td>As her father nears the end of his life, filmmaker Kirsten Johnson stages his death in inventive and comical ways to help them both face the inevitable.</td>\n",
       "    </tr>\n",
       "    <tr>\n",
       "      <th>1</th>\n",
       "      <td>s2</td>\n",
       "      <td>TV Show</td>\n",
       "      <td>Blood &amp; Water</td>\n",
       "      <td>NaN</td>\n",
       "      <td>Ama Qamata, Khosi Ngema, Gail Mabalane, Thabang Molaba, Dillon Windvogel, Natasha Thahane, Arno Greeff, Xolile Tshabalala, Getmore Sithole, Cindy Mahlangu, Ryle De Morny, Greteli Fincham, Sello Maake Ka-Ncube, Odwa Gwanya, Mekaila Mathys, Sandi Schultz, Duane Williams, Shamilla Miller, Patrick Mofokeng</td>\n",
       "      <td>South Africa</td>\n",
       "      <td>September 24, 2021</td>\n",
       "      <td>2021</td>\n",
       "      <td>TV-MA</td>\n",
       "      <td>2 Seasons</td>\n",
       "      <td>International TV Shows, TV Dramas, TV Mysteries</td>\n",
       "      <td>After crossing paths at a party, a Cape Town teen sets out to prove whether a private-school swimming star is her sister who was abducted at birth.</td>\n",
       "    </tr>\n",
       "    <tr>\n",
       "      <th>2</th>\n",
       "      <td>s3</td>\n",
       "      <td>TV Show</td>\n",
       "      <td>Ganglands</td>\n",
       "      <td>Julien Leclercq</td>\n",
       "      <td>Sami Bouajila, Tracy Gotoas, Samuel Jouy, Nabiha Akkari, Sofia Lesaffre, Salim Kechiouche, Noureddine Farihi, Geert Van Rampelberg, Bakary Diombera</td>\n",
       "      <td>NaN</td>\n",
       "      <td>September 24, 2021</td>\n",
       "      <td>2021</td>\n",
       "      <td>TV-MA</td>\n",
       "      <td>1 Season</td>\n",
       "      <td>Crime TV Shows, International TV Shows, TV Action &amp; Adventure</td>\n",
       "      <td>To protect his family from a powerful drug lord, skilled thief Mehdi and his expert team of robbers are pulled into a violent and deadly turf war.</td>\n",
       "    </tr>\n",
       "    <tr>\n",
       "      <th>3</th>\n",
       "      <td>s4</td>\n",
       "      <td>TV Show</td>\n",
       "      <td>Jailbirds New Orleans</td>\n",
       "      <td>NaN</td>\n",
       "      <td>NaN</td>\n",
       "      <td>NaN</td>\n",
       "      <td>September 24, 2021</td>\n",
       "      <td>2021</td>\n",
       "      <td>TV-MA</td>\n",
       "      <td>1 Season</td>\n",
       "      <td>Docuseries, Reality TV</td>\n",
       "      <td>Feuds, flirtations and toilet talk go down among the incarcerated women at the Orleans Justice Center in New Orleans on this gritty reality series.</td>\n",
       "    </tr>\n",
       "    <tr>\n",
       "      <th>4</th>\n",
       "      <td>s5</td>\n",
       "      <td>TV Show</td>\n",
       "      <td>Kota Factory</td>\n",
       "      <td>NaN</td>\n",
       "      <td>Mayur More, Jitendra Kumar, Ranjan Raj, Alam Khan, Ahsaas Channa, Revathi Pillai, Urvi Singh, Arun Kumar</td>\n",
       "      <td>India</td>\n",
       "      <td>September 24, 2021</td>\n",
       "      <td>2021</td>\n",
       "      <td>TV-MA</td>\n",
       "      <td>2 Seasons</td>\n",
       "      <td>International TV Shows, Romantic TV Shows, TV Comedies</td>\n",
       "      <td>In a city of coaching centers known to train India’s finest collegiate minds, an earnest but unexceptional student and his friends navigate campus life.</td>\n",
       "    </tr>\n",
       "  </tbody>\n",
       "</table>\n",
       "</div>"
      ],
      "text/plain": [
       "  show_id     type                  title         director  \\\n",
       "0      s1    Movie   Dick Johnson Is Dead  Kirsten Johnson   \n",
       "1      s2  TV Show          Blood & Water              NaN   \n",
       "2      s3  TV Show              Ganglands  Julien Leclercq   \n",
       "3      s4  TV Show  Jailbirds New Orleans              NaN   \n",
       "4      s5  TV Show           Kota Factory              NaN   \n",
       "\n",
       "                                                                                                                                                                                                                                                                                                              cast  \\\n",
       "0                                                                                                                                                                                                                                                                                                              NaN   \n",
       "1  Ama Qamata, Khosi Ngema, Gail Mabalane, Thabang Molaba, Dillon Windvogel, Natasha Thahane, Arno Greeff, Xolile Tshabalala, Getmore Sithole, Cindy Mahlangu, Ryle De Morny, Greteli Fincham, Sello Maake Ka-Ncube, Odwa Gwanya, Mekaila Mathys, Sandi Schultz, Duane Williams, Shamilla Miller, Patrick Mofokeng   \n",
       "2                                                                                                                                                              Sami Bouajila, Tracy Gotoas, Samuel Jouy, Nabiha Akkari, Sofia Lesaffre, Salim Kechiouche, Noureddine Farihi, Geert Van Rampelberg, Bakary Diombera   \n",
       "3                                                                                                                                                                                                                                                                                                              NaN   \n",
       "4                                                                                                                                                                                                         Mayur More, Jitendra Kumar, Ranjan Raj, Alam Khan, Ahsaas Channa, Revathi Pillai, Urvi Singh, Arun Kumar   \n",
       "\n",
       "         country          date_added  release_year rating   duration  \\\n",
       "0  United States  September 25, 2021          2020  PG-13     90 min   \n",
       "1   South Africa  September 24, 2021          2021  TV-MA  2 Seasons   \n",
       "2            NaN  September 24, 2021          2021  TV-MA   1 Season   \n",
       "3            NaN  September 24, 2021          2021  TV-MA   1 Season   \n",
       "4          India  September 24, 2021          2021  TV-MA  2 Seasons   \n",
       "\n",
       "                                                       listed_in  \\\n",
       "0                                                  Documentaries   \n",
       "1                International TV Shows, TV Dramas, TV Mysteries   \n",
       "2  Crime TV Shows, International TV Shows, TV Action & Adventure   \n",
       "3                                         Docuseries, Reality TV   \n",
       "4         International TV Shows, Romantic TV Shows, TV Comedies   \n",
       "\n",
       "                                                                                                                                                description  \n",
       "0  As her father nears the end of his life, filmmaker Kirsten Johnson stages his death in inventive and comical ways to help them both face the inevitable.  \n",
       "1       After crossing paths at a party, a Cape Town teen sets out to prove whether a private-school swimming star is her sister who was abducted at birth.  \n",
       "2        To protect his family from a powerful drug lord, skilled thief Mehdi and his expert team of robbers are pulled into a violent and deadly turf war.  \n",
       "3       Feuds, flirtations and toilet talk go down among the incarcerated women at the Orleans Justice Center in New Orleans on this gritty reality series.  \n",
       "4  In a city of coaching centers known to train India’s finest collegiate minds, an earnest but unexceptional student and his friends navigate campus life.  "
      ]
     },
     "execution_count": 4,
     "metadata": {},
     "output_type": "execute_result"
    }
   ],
   "source": [
    "df.head()"
   ]
  },
  {
   "cell_type": "markdown",
   "id": "7eea629e-b0b3-4a05-9fe4-1af83a706456",
   "metadata": {},
   "source": [
    "#### Sanity check"
   ]
  },
  {
   "cell_type": "code",
   "execution_count": 6,
   "id": "dfbda108-f5b8-4652-a458-3380c6914816",
   "metadata": {},
   "outputs": [
    {
     "name": "stdout",
     "output_type": "stream",
     "text": [
      "<class 'pandas.core.frame.DataFrame'>\n",
      "RangeIndex: 8807 entries, 0 to 8806\n",
      "Data columns (total 12 columns):\n",
      " #   Column        Non-Null Count  Dtype \n",
      "---  ------        --------------  ----- \n",
      " 0   show_id       8807 non-null   object\n",
      " 1   type          8807 non-null   object\n",
      " 2   title         8807 non-null   object\n",
      " 3   director      6173 non-null   object\n",
      " 4   cast          7982 non-null   object\n",
      " 5   country       7976 non-null   object\n",
      " 6   date_added    8797 non-null   object\n",
      " 7   release_year  8807 non-null   int64 \n",
      " 8   rating        8803 non-null   object\n",
      " 9   duration      8804 non-null   object\n",
      " 10  listed_in     8807 non-null   object\n",
      " 11  description   8807 non-null   object\n",
      "dtypes: int64(1), object(11)\n",
      "memory usage: 825.8+ KB\n"
     ]
    }
   ],
   "source": [
    "df.info()"
   ]
  },
  {
   "cell_type": "code",
   "execution_count": 7,
   "id": "ce5284f8-b922-4b0d-ace5-2606915633c0",
   "metadata": {},
   "outputs": [
    {
     "data": {
      "text/plain": [
       "show_id            0\n",
       "type               0\n",
       "title              0\n",
       "director        2634\n",
       "cast             825\n",
       "country          831\n",
       "date_added        10\n",
       "release_year       0\n",
       "rating             4\n",
       "duration           3\n",
       "listed_in          0\n",
       "description        0\n",
       "dtype: int64"
      ]
     },
     "execution_count": 7,
     "metadata": {},
     "output_type": "execute_result"
    }
   ],
   "source": [
    "df.isnull().sum()"
   ]
  },
  {
   "cell_type": "code",
   "execution_count": 8,
   "id": "d72adbb3-e513-45cc-89ab-0035a3a008fc",
   "metadata": {},
   "outputs": [
    {
     "data": {
      "text/plain": [
       "8807"
      ]
     },
     "execution_count": 8,
     "metadata": {},
     "output_type": "execute_result"
    }
   ],
   "source": [
    "len(df)"
   ]
  },
  {
   "cell_type": "code",
   "execution_count": 9,
   "id": "3a08fa9c-6272-49ef-b4c7-70280ec4ec0d",
   "metadata": {},
   "outputs": [],
   "source": [
    "df = df.drop(columns=['show_id', 'date_added', 'release_year', 'duration', 'country'])"
   ]
  },
  {
   "cell_type": "code",
   "execution_count": 10,
   "id": "97542fe5-a32a-4238-89c7-51b7814f542a",
   "metadata": {},
   "outputs": [
    {
     "name": "stdout",
     "output_type": "stream",
     "text": [
      "<class 'pandas.core.frame.DataFrame'>\n",
      "RangeIndex: 8807 entries, 0 to 8806\n",
      "Data columns (total 7 columns):\n",
      " #   Column       Non-Null Count  Dtype \n",
      "---  ------       --------------  ----- \n",
      " 0   type         8807 non-null   object\n",
      " 1   title        8807 non-null   object\n",
      " 2   director     6173 non-null   object\n",
      " 3   cast         7982 non-null   object\n",
      " 4   rating       8803 non-null   object\n",
      " 5   listed_in    8807 non-null   object\n",
      " 6   description  8807 non-null   object\n",
      "dtypes: object(7)\n",
      "memory usage: 481.8+ KB\n"
     ]
    }
   ],
   "source": [
    "df.info()"
   ]
  },
  {
   "cell_type": "code",
   "execution_count": 11,
   "id": "1fb113d2-66ff-45ab-a2ef-637cc6367573",
   "metadata": {},
   "outputs": [],
   "source": [
    "#df = df.dropna()"
   ]
  },
  {
   "cell_type": "code",
   "execution_count": 12,
   "id": "dea5a229-843c-4f59-86c2-ffdd6be0e1f5",
   "metadata": {},
   "outputs": [
    {
     "data": {
      "text/plain": [
       "8807"
      ]
     },
     "execution_count": 12,
     "metadata": {},
     "output_type": "execute_result"
    }
   ],
   "source": [
    "len(df)"
   ]
  },
  {
   "cell_type": "markdown",
   "id": "d93c70cf-84c5-4710-aadb-915a8f765bac",
   "metadata": {},
   "source": [
    "#### Preprocessing"
   ]
  },
  {
   "cell_type": "markdown",
   "id": "7c09c72c-df7f-447c-839f-9ee848e8c050",
   "metadata": {},
   "source": [
    "*Note: title will be preprocessed once the OMDB api request is done'*"
   ]
  },
  {
   "cell_type": "code",
   "execution_count": 15,
   "id": "2c505730-0efc-4e0e-a5e2-c945959de996",
   "metadata": {},
   "outputs": [],
   "source": [
    "stop_words = set(stopwords.words('english'))\n",
    "\n",
    "df[['description', 'listed_in']] = df[['description', 'listed_in']].apply(lambda x: x.str.lower())\n",
    "\n",
    "df['description_cl'] = df['description'].apply(lambda x: re.sub(r'[^a-zA-Z\\s]', '', x))\n",
    "df['listed_in_cl'] = df['listed_in'].apply(lambda x: re.sub(r'[^a-zA-Z\\s]', '', x))\n",
    "\n",
    "df['description_tokens'] = df['description_cl'].str.split()\n",
    "df['listed_in_tokens'] = df['listed_in_cl'].str.split()\n",
    "\n",
    "df['description_tokens'] = df['description_tokens'].apply(lambda x: [word for word in x if word not in stop_words])\n",
    "df['listed_in_tokens'] = df['listed_in_tokens'].apply(lambda x: [word for word in x if word not in stop_words])\n",
    "\n",
    "lemmatizer = WordNetLemmatizer()\n",
    "df['description_tokens'] = df['description_tokens'].apply(lambda x: [lemmatizer.lemmatize(word) for word in x])\n",
    "df['listed_in_tokens'] = df['listed_in_tokens'].apply(lambda x: [lemmatizer.lemmatize(word) for word in x])\n"
   ]
  },
  {
   "cell_type": "code",
   "execution_count": 16,
   "id": "3319649e-e29c-4389-915b-7289b46d2bd9",
   "metadata": {},
   "outputs": [
    {
     "data": {
      "text/plain": [
       "Index(['type', 'title', 'director', 'cast', 'rating', 'listed_in',\n",
       "       'description', 'description_cl', 'listed_in_cl', 'description_tokens',\n",
       "       'listed_in_tokens'],\n",
       "      dtype='object')"
      ]
     },
     "execution_count": 16,
     "metadata": {},
     "output_type": "execute_result"
    }
   ],
   "source": [
    "df.columns"
   ]
  },
  {
   "cell_type": "code",
   "execution_count": 17,
   "id": "66307d6d-051b-458b-a219-9e0e3fa717fe",
   "metadata": {},
   "outputs": [],
   "source": [
    "df = df.drop(columns=['description','description_cl', 'listed_in', 'listed_in_cl'])"
   ]
  },
  {
   "cell_type": "code",
   "execution_count": 18,
   "id": "24a3d591-d959-4cb5-9a14-65ab1bfa97d3",
   "metadata": {},
   "outputs": [
    {
     "data": {
      "text/plain": [
       "Movie      6131\n",
       "TV Show    2676\n",
       "Name: type, dtype: int64"
      ]
     },
     "execution_count": 18,
     "metadata": {},
     "output_type": "execute_result"
    }
   ],
   "source": [
    "df['type'].value_counts()"
   ]
  },
  {
   "cell_type": "code",
   "execution_count": 19,
   "id": "7a5c2ba1-214d-4626-8d4b-2aab34344931",
   "metadata": {},
   "outputs": [
    {
     "data": {
      "text/plain": [
       "TV-MA       3207\n",
       "TV-14       2160\n",
       "TV-PG        863\n",
       "R            799\n",
       "PG-13        490\n",
       "TV-Y7        334\n",
       "TV-Y         307\n",
       "PG           287\n",
       "TV-G         220\n",
       "NR            80\n",
       "G             41\n",
       "TV-Y7-FV       6\n",
       "NC-17          3\n",
       "UR             3\n",
       "74 min         1\n",
       "84 min         1\n",
       "66 min         1\n",
       "Name: rating, dtype: int64"
      ]
     },
     "execution_count": 19,
     "metadata": {},
     "output_type": "execute_result"
    }
   ],
   "source": [
    "df['rating'].value_counts()"
   ]
  },
  {
   "cell_type": "markdown",
   "id": "454feb60-b4b0-4b2f-a3e5-8b663b5163cf",
   "metadata": {},
   "source": [
    "Encoding the df['type']"
   ]
  },
  {
   "cell_type": "code",
   "execution_count": 21,
   "id": "8e02e2b2-ef8f-4d8d-83ef-ad3c7078b754",
   "metadata": {},
   "outputs": [],
   "source": [
    "encoder = OneHotEncoder(drop='first', sparse=False)  \n",
    "type_encoded = encoder.fit_transform(df[['type']])\n",
    "\n",
    "type_encoded_df = pd.DataFrame(type_encoded, columns=encoder.get_feature_names_out(['type']))\n",
    "df = df.drop(columns=['type']).join(type_encoded_df)"
   ]
  },
  {
   "cell_type": "code",
   "execution_count": 22,
   "id": "c0bb2338-6e96-499b-9c2a-3f274d2a544b",
   "metadata": {},
   "outputs": [
    {
     "data": {
      "text/html": [
       "<div>\n",
       "<style scoped>\n",
       "    .dataframe tbody tr th:only-of-type {\n",
       "        vertical-align: middle;\n",
       "    }\n",
       "\n",
       "    .dataframe tbody tr th {\n",
       "        vertical-align: top;\n",
       "    }\n",
       "\n",
       "    .dataframe thead th {\n",
       "        text-align: right;\n",
       "    }\n",
       "</style>\n",
       "<table border=\"1\" class=\"dataframe\">\n",
       "  <thead>\n",
       "    <tr style=\"text-align: right;\">\n",
       "      <th></th>\n",
       "      <th>title</th>\n",
       "      <th>director</th>\n",
       "      <th>cast</th>\n",
       "      <th>rating</th>\n",
       "      <th>description_tokens</th>\n",
       "      <th>listed_in_tokens</th>\n",
       "      <th>type_TV Show</th>\n",
       "    </tr>\n",
       "  </thead>\n",
       "  <tbody>\n",
       "    <tr>\n",
       "      <th>0</th>\n",
       "      <td>Dick Johnson Is Dead</td>\n",
       "      <td>Kirsten Johnson</td>\n",
       "      <td>NaN</td>\n",
       "      <td>PG-13</td>\n",
       "      <td>[father, nears, end, life, filmmaker, kirsten, johnson, stage, death, inventive, comical, way, help, face, inevitable]</td>\n",
       "      <td>[documentary]</td>\n",
       "      <td>0.0</td>\n",
       "    </tr>\n",
       "    <tr>\n",
       "      <th>1</th>\n",
       "      <td>Blood &amp; Water</td>\n",
       "      <td>NaN</td>\n",
       "      <td>Ama Qamata, Khosi Ngema, Gail Mabalane, Thabang Molaba, Dillon Windvogel, Natasha Thahane, Arno Greeff, Xolile Tshabalala, Getmore Sithole, Cindy Mahlangu, Ryle De Morny, Greteli Fincham, Sello Maake Ka-Ncube, Odwa Gwanya, Mekaila Mathys, Sandi Schultz, Duane Williams, Shamilla Miller, Patrick Mofokeng</td>\n",
       "      <td>TV-MA</td>\n",
       "      <td>[crossing, path, party, cape, town, teen, set, prove, whether, privateschool, swimming, star, sister, abducted, birth]</td>\n",
       "      <td>[international, tv, show, tv, drama, tv, mystery]</td>\n",
       "      <td>1.0</td>\n",
       "    </tr>\n",
       "    <tr>\n",
       "      <th>2</th>\n",
       "      <td>Ganglands</td>\n",
       "      <td>Julien Leclercq</td>\n",
       "      <td>Sami Bouajila, Tracy Gotoas, Samuel Jouy, Nabiha Akkari, Sofia Lesaffre, Salim Kechiouche, Noureddine Farihi, Geert Van Rampelberg, Bakary Diombera</td>\n",
       "      <td>TV-MA</td>\n",
       "      <td>[protect, family, powerful, drug, lord, skilled, thief, mehdi, expert, team, robber, pulled, violent, deadly, turf, war]</td>\n",
       "      <td>[crime, tv, show, international, tv, show, tv, action, adventure]</td>\n",
       "      <td>1.0</td>\n",
       "    </tr>\n",
       "    <tr>\n",
       "      <th>3</th>\n",
       "      <td>Jailbirds New Orleans</td>\n",
       "      <td>NaN</td>\n",
       "      <td>NaN</td>\n",
       "      <td>TV-MA</td>\n",
       "      <td>[feud, flirtation, toilet, talk, go, among, incarcerated, woman, orleans, justice, center, new, orleans, gritty, reality, series]</td>\n",
       "      <td>[docuseries, reality, tv]</td>\n",
       "      <td>1.0</td>\n",
       "    </tr>\n",
       "    <tr>\n",
       "      <th>4</th>\n",
       "      <td>Kota Factory</td>\n",
       "      <td>NaN</td>\n",
       "      <td>Mayur More, Jitendra Kumar, Ranjan Raj, Alam Khan, Ahsaas Channa, Revathi Pillai, Urvi Singh, Arun Kumar</td>\n",
       "      <td>TV-MA</td>\n",
       "      <td>[city, coaching, center, known, train, india, finest, collegiate, mind, earnest, unexceptional, student, friend, navigate, campus, life]</td>\n",
       "      <td>[international, tv, show, romantic, tv, show, tv, comedy]</td>\n",
       "      <td>1.0</td>\n",
       "    </tr>\n",
       "  </tbody>\n",
       "</table>\n",
       "</div>"
      ],
      "text/plain": [
       "                   title         director  \\\n",
       "0   Dick Johnson Is Dead  Kirsten Johnson   \n",
       "1          Blood & Water              NaN   \n",
       "2              Ganglands  Julien Leclercq   \n",
       "3  Jailbirds New Orleans              NaN   \n",
       "4           Kota Factory              NaN   \n",
       "\n",
       "                                                                                                                                                                                                                                                                                                              cast  \\\n",
       "0                                                                                                                                                                                                                                                                                                              NaN   \n",
       "1  Ama Qamata, Khosi Ngema, Gail Mabalane, Thabang Molaba, Dillon Windvogel, Natasha Thahane, Arno Greeff, Xolile Tshabalala, Getmore Sithole, Cindy Mahlangu, Ryle De Morny, Greteli Fincham, Sello Maake Ka-Ncube, Odwa Gwanya, Mekaila Mathys, Sandi Schultz, Duane Williams, Shamilla Miller, Patrick Mofokeng   \n",
       "2                                                                                                                                                              Sami Bouajila, Tracy Gotoas, Samuel Jouy, Nabiha Akkari, Sofia Lesaffre, Salim Kechiouche, Noureddine Farihi, Geert Van Rampelberg, Bakary Diombera   \n",
       "3                                                                                                                                                                                                                                                                                                              NaN   \n",
       "4                                                                                                                                                                                                         Mayur More, Jitendra Kumar, Ranjan Raj, Alam Khan, Ahsaas Channa, Revathi Pillai, Urvi Singh, Arun Kumar   \n",
       "\n",
       "  rating  \\\n",
       "0  PG-13   \n",
       "1  TV-MA   \n",
       "2  TV-MA   \n",
       "3  TV-MA   \n",
       "4  TV-MA   \n",
       "\n",
       "                                                                                                                         description_tokens  \\\n",
       "0                    [father, nears, end, life, filmmaker, kirsten, johnson, stage, death, inventive, comical, way, help, face, inevitable]   \n",
       "1                    [crossing, path, party, cape, town, teen, set, prove, whether, privateschool, swimming, star, sister, abducted, birth]   \n",
       "2                  [protect, family, powerful, drug, lord, skilled, thief, mehdi, expert, team, robber, pulled, violent, deadly, turf, war]   \n",
       "3         [feud, flirtation, toilet, talk, go, among, incarcerated, woman, orleans, justice, center, new, orleans, gritty, reality, series]   \n",
       "4  [city, coaching, center, known, train, india, finest, collegiate, mind, earnest, unexceptional, student, friend, navigate, campus, life]   \n",
       "\n",
       "                                                    listed_in_tokens  \\\n",
       "0                                                      [documentary]   \n",
       "1                  [international, tv, show, tv, drama, tv, mystery]   \n",
       "2  [crime, tv, show, international, tv, show, tv, action, adventure]   \n",
       "3                                          [docuseries, reality, tv]   \n",
       "4          [international, tv, show, romantic, tv, show, tv, comedy]   \n",
       "\n",
       "   type_TV Show  \n",
       "0           0.0  \n",
       "1           1.0  \n",
       "2           1.0  \n",
       "3           1.0  \n",
       "4           1.0  "
      ]
     },
     "execution_count": 22,
     "metadata": {},
     "output_type": "execute_result"
    }
   ],
   "source": [
    "df.head()"
   ]
  },
  {
   "cell_type": "code",
   "execution_count": null,
   "id": "fe8c1276-d7f1-4a3e-9ce9-505b4b7a4935",
   "metadata": {},
   "outputs": [],
   "source": []
  },
  {
   "cell_type": "markdown",
   "id": "b46e3d1b-7721-4eb8-9e8b-6afff8a877a3",
   "metadata": {},
   "source": [
    "#### Vectorization & similarity"
   ]
  },
  {
   "cell_type": "markdown",
   "id": "5aa1ca10-bde0-4332-9cab-63d59d3803ec",
   "metadata": {},
   "source": [
    "##### Recommendation 1 // using df['description_tokens']"
   ]
  },
  {
   "cell_type": "code",
   "execution_count": 25,
   "id": "eb50176b-846c-4a5a-8eb4-1489c0466053",
   "metadata": {},
   "outputs": [
    {
     "data": {
      "text/plain": [
       "(8807, 17894)"
      ]
     },
     "execution_count": 25,
     "metadata": {},
     "output_type": "execute_result"
    }
   ],
   "source": [
    "df['description_tokens'] = df['description_tokens'].apply(lambda x: ' '.join(x))\n",
    "df['description_tokens'] = df['description_tokens'].fillna('')\n",
    "\n",
    "tfidf = TfidfVectorizer(stop_words='english')\n",
    "tfidf_matrix = tfidf.fit_transform(df['description_tokens'])\n",
    "\n",
    "tfidf_matrix.shape"
   ]
  },
  {
   "cell_type": "code",
   "execution_count": 26,
   "id": "cc458173-5130-48fe-ac16-986a7e06d82c",
   "metadata": {},
   "outputs": [],
   "source": [
    "cosine_sim = linear_kernel(tfidf_matrix, tfidf_matrix)"
   ]
  },
  {
   "cell_type": "code",
   "execution_count": 27,
   "id": "fde8a37d-691e-44b5-a0b7-b5b23ee45d36",
   "metadata": {},
   "outputs": [],
   "source": [
    "indices = pd.Series(df.index, index= df['title']).drop_duplicates()"
   ]
  },
  {
   "cell_type": "code",
   "execution_count": 28,
   "id": "0ae66b20-546b-4e7f-b7ea-00e0de7d0967",
   "metadata": {},
   "outputs": [],
   "source": [
    "def get_recommendations(title, cosine_sim=cosine_sim):\n",
    "    idx = indices[title]\n",
    "\n",
    "    sim_scores = list(enumerate(cosine_sim[idx]))\n",
    "    sim_scores = sorted(sim_scores, key=lambda x: x[1], reverse=True)\n",
    "    sim_scores = sim_scores[1:11]\n",
    "    movie_indices = [i[0] for i in sim_scores]\n",
    "\n",
    "    return df['title'].iloc[movie_indices]"
   ]
  },
  {
   "cell_type": "code",
   "execution_count": 29,
   "id": "0880c897-f5ba-4275-8c05-43461e56ece8",
   "metadata": {},
   "outputs": [
    {
     "data": {
      "text/plain": [
       "7148                            Julius Jr.\n",
       "5644               Rampage: President Down\n",
       "188                       2 Alone in Paris\n",
       "3227                          The Irishman\n",
       "7865                    Revolutionary Road\n",
       "142                        Freedom Writers\n",
       "8739    Why We Fight: The Battle of Russia\n",
       "2214        Sinatra: All or Nothing at All\n",
       "4352                    Angela's Christmas\n",
       "5854                       Frank and Cindy\n",
       "Name: title, dtype: object"
      ]
     },
     "execution_count": 29,
     "metadata": {},
     "output_type": "execute_result"
    }
   ],
   "source": [
    "get_recommendations('Catch Me If You Can')"
   ]
  },
  {
   "cell_type": "code",
   "execution_count": 30,
   "id": "c80324cd-788c-4e31-9025-29bb5b2f35b7",
   "metadata": {},
   "outputs": [
    {
     "data": {
      "text/plain": [
       "array([[1.        , 0.        , 0.        , ..., 0.        , 0.01445954,\n",
       "        0.03846602],\n",
       "       [0.        , 1.        , 0.        , ..., 0.04238867, 0.        ,\n",
       "        0.        ],\n",
       "       [0.        , 0.        , 1.        , ..., 0.03181666, 0.        ,\n",
       "        0.02181876],\n",
       "       ...,\n",
       "       [0.        , 0.04238867, 0.03181666, ..., 1.        , 0.        ,\n",
       "        0.        ],\n",
       "       [0.01445954, 0.        , 0.        , ..., 0.        , 1.        ,\n",
       "        0.        ],\n",
       "       [0.03846602, 0.        , 0.02181876, ..., 0.        , 0.        ,\n",
       "        1.        ]])"
      ]
     },
     "execution_count": 30,
     "metadata": {},
     "output_type": "execute_result"
    }
   ],
   "source": [
    "cosine_sim "
   ]
  },
  {
   "cell_type": "markdown",
   "id": "3289af12-fb19-4705-ac03-70880d43ac56",
   "metadata": {},
   "source": [
    "#### Getting more data from omdb"
   ]
  },
  {
   "cell_type": "code",
   "execution_count": 32,
   "id": "e0db4275-58ca-44f9-960b-f3eeddd5776e",
   "metadata": {},
   "outputs": [],
   "source": [
    "import requests\n",
    "import pandas as pd\n",
    "\n",
    "API_KEY = '4c81a644'\n",
    "base_url = 'http://www.omdbapi.com/'\n"
   ]
  },
  {
   "cell_type": "code",
   "execution_count": 33,
   "id": "679884a2-d3c2-4e74-a2f0-3eb2699deb50",
   "metadata": {},
   "outputs": [],
   "source": [
    "def get_movie_data(title):\n",
    "    params = {\n",
    "        't': title,  \n",
    "        'apikey': API_KEY\n",
    "    }\n",
    "    response = requests.get(base_url, params=params)\n",
    "    movie_data = response.json()\n",
    "    \n",
    "    if movie_data['Response'] == 'True':\n",
    "        return {\n",
    "            'Title': movie_data['Title'],\n",
    "            'Year': movie_data['Year'],\n",
    "            'Rated': movie_data['Rated'],\n",
    "            'Released': movie_data['Released'],\n",
    "            'Genre': movie_data['Genre'],\n",
    "            'Director': movie_data['Director'],\n",
    "            'Actors': movie_data['Actors'],\n",
    "            'Plot': movie_data['Plot'],\n",
    "            'imdbRating': movie_data['imdbRating'],\n",
    "            'imdbID': movie_data['imdbID']\n",
    "        }\n",
    "    else:\n",
    "        return None"
   ]
  },
  {
   "cell_type": "code",
   "execution_count": 34,
   "id": "024371c8-4297-4106-b570-b0dbc308de5e",
   "metadata": {},
   "outputs": [],
   "source": [
    "def enrich_dataset_with_imdb_data(df):\n",
    "    movie_data_list = []\n",
    "    \n",
    "    for index, row in df.iterrows():\n",
    "        title = row['title']\n",
    "        movie_data = get_movie_data(title)\n",
    "        \n",
    "        if movie_data:\n",
    "            movie_data_list.append(movie_data)\n",
    "        else:\n",
    "            movie_data_list.append({\n",
    "                'Title': title,\n",
    "                'Year': None,\n",
    "                'Rated': None,\n",
    "                'Released': None,\n",
    "                'Genre': None,\n",
    "                'Director': None,\n",
    "                'Actors': None,\n",
    "                'Plot': None,\n",
    "                'imdbRating': None,\n",
    "                'imdbID': None\n",
    "            })\n",
    "    \n",
    "    movie_data_df = pd.DataFrame(movie_data_list)\n",
    "    enriched_df = pd.concat([df, movie_data_df], axis=1)\n",
    "    return enriched_df"
   ]
  },
  {
   "cell_type": "code",
   "execution_count": null,
   "id": "f44b5614-1901-47f2-8ac0-1a4e581ca5be",
   "metadata": {},
   "outputs": [],
   "source": [
    "enriched_df = enrich_dataset_with_imdb_data(df)"
   ]
  },
  {
   "cell_type": "code",
   "execution_count": null,
   "id": "229756a8-f5ad-4f5a-bd79-d01ceeb23ca9",
   "metadata": {},
   "outputs": [],
   "source": [
    "enriched_df.head()"
   ]
  },
  {
   "cell_type": "code",
   "execution_count": null,
   "id": "43b010cf-0b52-4f49-9301-8899a66f7385",
   "metadata": {},
   "outputs": [],
   "source": [
    "enriched_df.info()"
   ]
  },
  {
   "cell_type": "markdown",
   "id": "092de088-dba2-4f7f-85f2-05169e3172c4",
   "metadata": {},
   "source": [
    "*Comment: Unfortunately only 896 match was found, but Cath me if you can was one of them.*"
   ]
  },
  {
   "cell_type": "code",
   "execution_count": null,
   "id": "094cbdae-d65c-48c1-8ea8-a14200f68e77",
   "metadata": {},
   "outputs": [],
   "source": [
    "enriched_df = enriched_df.drop(columns=['imdbID', 'Rated', 'Released'])"
   ]
  },
  {
   "cell_type": "code",
   "execution_count": null,
   "id": "31b94a3f-7bfa-4446-820f-c92214095adf",
   "metadata": {},
   "outputs": [],
   "source": [
    "stop_words = set(stopwords.words('english'))\n",
    "lemmatizer = WordNetLemmatizer()\n",
    "\n",
    "columns_to_process = ['Title', 'Genre', 'Director', 'Actors', 'Plot']\n",
    "\n",
    "def clean_and_process_column(col):\n",
    "    enriched_df[col] = enriched_df[col].fillna('').astype(str)\n",
    "    enriched_df[f'{col}_cl'] = enriched_df[col].str.lower().apply(lambda x: re.sub(r'[^a-zA-Z\\s]', '', x))  \n",
    "    enriched_df[f'{col}_tokens'] = enriched_df[f'{col}_cl'].str.split()  \n",
    "    enriched_df[f'{col}_tokens'] = enriched_df[f'{col}_tokens'].apply(lambda x: [word for word in x if word not in stop_words])  \n",
    "    enriched_df[f'{col}_tokens'] = enriched_df[f'{col}_tokens'].apply(lambda x: [lemmatizer.lemmatize(word) for word in x])  \n",
    "    return enriched_df\n",
    "\n",
    "for col in columns_to_process:\n",
    "    enriched_df = clean_and_process_column(col)"
   ]
  },
  {
   "cell_type": "markdown",
   "id": "c839b97f-981a-47bf-babf-4c32b4be42eb",
   "metadata": {},
   "source": [
    "##### Recommendation 2 //using enriched_df['description_tokens']"
   ]
  },
  {
   "cell_type": "code",
   "execution_count": null,
   "id": "cac1db44-d21c-438a-8a46-955dae140846",
   "metadata": {},
   "outputs": [],
   "source": [
    "tfidf02 = TfidfVectorizer(stop_words='english')\n",
    "tfidf_matrix02 = tfidf02.fit_transform(enriched_df['description_tokens'])"
   ]
  },
  {
   "cell_type": "code",
   "execution_count": null,
   "id": "777a8a35-9442-4a6f-b3d2-a879f4dd9ae7",
   "metadata": {},
   "outputs": [],
   "source": [
    "cosine_sim02 = linear_kernel(tfidf_matrix02, tfidf_matrix02)"
   ]
  },
  {
   "cell_type": "code",
   "execution_count": null,
   "id": "823a9de5-fa10-4773-a5c1-877264885ac2",
   "metadata": {},
   "outputs": [],
   "source": [
    "def get_recommendations02(title, cosine_sim=cosine_sim):\n",
    "    idx = indices[title]\n",
    "\n",
    "    sim_scores = list(enumerate(cosine_sim[idx]))\n",
    "    sim_scores = sorted(sim_scores, key=lambda x: x[1], reverse=True)\n",
    "    sim_scores = sim_scores[1:11]\n",
    "    movie_indices = [i[0] for i in sim_scores]\n",
    "\n",
    "    return enriched_df['title'].iloc[movie_indices]"
   ]
  },
  {
   "cell_type": "code",
   "execution_count": null,
   "id": "cf8e43a7-c2d1-4f59-8f7e-8605851df4a9",
   "metadata": {},
   "outputs": [],
   "source": [
    "get_recommendations02('Catch Me If You Can')"
   ]
  },
  {
   "cell_type": "markdown",
   "id": "0ad70166-b09c-4e74-8faa-dc161b39a407",
   "metadata": {},
   "source": [
    "#### Using more column as a basis"
   ]
  },
  {
   "cell_type": "markdown",
   "id": "5a6e9620-2ecb-4aa4-a4c5-efc21ed1ba2d",
   "metadata": {},
   "source": [
    "##### Recommendation 3 // using enriched_df['combined_features'] "
   ]
  },
  {
   "cell_type": "code",
   "execution_count": null,
   "id": "56d7263e-20fc-44a1-9102-e1666a363ee4",
   "metadata": {},
   "outputs": [],
   "source": [
    "enriched_df['description_tokens'] = enriched_df['description_tokens'].fillna('')\n",
    "enriched_df['rating'] = enriched_df['rating'].fillna('')\n",
    "enriched_df['Director'] = enriched_df['Director'].fillna('')\n",
    "enriched_df['Actors'] = enriched_df['Actors'].fillna('')"
   ]
  },
  {
   "cell_type": "code",
   "execution_count": null,
   "id": "608ad962-5be8-4383-9802-b9afa67db629",
   "metadata": {},
   "outputs": [],
   "source": [
    "enriched_df['combined_features'] = enriched_df['description_tokens'] + ' ' + enriched_df['rating'] + ' ' + enriched_df['Director'] + ' ' + enriched_df['Actors']"
   ]
  },
  {
   "cell_type": "code",
   "execution_count": null,
   "id": "1340c542-78df-4950-bca7-bc3ce2387743",
   "metadata": {},
   "outputs": [],
   "source": [
    "tfidf03 = TfidfVectorizer(stop_words='english')\n",
    "tfidf_matrix03 = tfidf03.fit_transform(enriched_df['combined_features'])"
   ]
  },
  {
   "cell_type": "code",
   "execution_count": null,
   "id": "a3ee675c-2030-4ff5-a5a4-3be80c04f519",
   "metadata": {},
   "outputs": [],
   "source": [
    "cosine_sim03 = linear_kernel(tfidf_matrix03, tfidf_matrix03)"
   ]
  },
  {
   "cell_type": "code",
   "execution_count": null,
   "id": "637cc963-46c4-451a-86fb-5e0c9084cd64",
   "metadata": {},
   "outputs": [],
   "source": [
    "def get_recommendations03(title, cosine_sim03=cosine_sim03):\n",
    "    idx = indices[title]\n",
    "\n",
    "    sim_scores = list(enumerate(cosine_sim[idx]))\n",
    "    sim_scores = sorted(sim_scores, key=lambda x: x[1], reverse=True)\n",
    "    sim_scores = sim_scores[1:11]\n",
    "    movie_indices = [i[0] for i in sim_scores]\n",
    "\n",
    "    return enriched_df['title'].iloc[movie_indices]"
   ]
  },
  {
   "cell_type": "code",
   "execution_count": null,
   "id": "23f88411-14f0-41a4-b0b1-78f2ff43a730",
   "metadata": {},
   "outputs": [],
   "source": [
    "get_recommendations03('Catch Me If You Can')"
   ]
  },
  {
   "cell_type": "markdown",
   "id": "d086cf3a-8d9d-4a86-b97f-5c44a5a6603a",
   "metadata": {},
   "source": [
    "**Since the result does not seem very satisfying, therefore the following techniques could be considered:**\n",
    "\n",
    "- **Weighted Similarity**: Assigning weights to different features e.g.: more importance to genres and directors.\n",
    "- **Latent Semantic Analysis (LSA):**: Reduce dimensionality of the feature space using SVD (Singular Value Decomposition) for better similarity computation.\n",
    "- **Collaborative Filtering**: Matrix Factorization:Singular Value Decomposition (SVD) or Alternating Least Squares (ALS) to find latent factors for users and movies.\n",
    "- **Deep Learning**: Deep neural networks (e.g., autoencoders or embeddings from recommendation models like Neural Collaborative Filtering (NCF))."
   ]
  },
  {
   "cell_type": "code",
   "execution_count": null,
   "id": "10d46c5e-2473-4be7-bdc4-498a587b0187",
   "metadata": {},
   "outputs": [],
   "source": []
  }
 ],
 "metadata": {
  "kernelspec": {
   "display_name": "Python (myenv)",
   "language": "python",
   "name": "myenv"
  },
  "language_info": {
   "codemirror_mode": {
    "name": "ipython",
    "version": 3
   },
   "file_extension": ".py",
   "mimetype": "text/x-python",
   "name": "python",
   "nbconvert_exporter": "python",
   "pygments_lexer": "ipython3",
   "version": "3.8.18"
  }
 },
 "nbformat": 4,
 "nbformat_minor": 5
}
